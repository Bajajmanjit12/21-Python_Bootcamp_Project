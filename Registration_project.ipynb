{
 "cells": [
  {
   "cell_type": "code",
   "execution_count": 1,
   "id": "d46c6d54-2107-40f5-a349-f74b239cac20",
   "metadata": {},
   "outputs": [
    {
     "name": "stdout",
     "output_type": "stream",
     "text": [
      "Requirement already satisfied: pillow in c:\\users\\bajaj\\appdata\\local\\programs\\python\\python311\\lib\\site-packages (10.0.1)\n"
     ]
    }
   ],
   "source": [
    "!pip install pillow"
   ]
  },
  {
   "cell_type": "code",
   "execution_count": 14,
   "id": "90e5ee78-eb58-4a03-a32a-1a1ee7a0658a",
   "metadata": {},
   "outputs": [],
   "source": [
    "import tkinter as Tk"
   ]
  },
  {
   "cell_type": "code",
   "execution_count": 16,
   "id": "ed5b5ea7-4d2c-471c-8f97-22a7416b75a4",
   "metadata": {},
   "outputs": [],
   "source": [
    "from tkinter import *\n",
    "from PIL import ImageTk, Image"
   ]
  },
  {
   "cell_type": "code",
   "execution_count": 17,
   "id": "b71d74c4-7a7f-474d-8fcb-25518370f340",
   "metadata": {},
   "outputs": [],
   "source": [
    "users = []"
   ]
  },
  {
   "cell_type": "code",
   "execution_count": 18,
   "id": "5fedfd6d-3cef-43e4-ba22-e9ddf7079e13",
   "metadata": {},
   "outputs": [],
   "source": [
    "def display_message():\n",
    "    \n",
    "    email = email_ip.get()\n",
    "    password = pass_ip.get()\n",
    "    \n",
    "    if email in users:\n",
    "        message.config(text='User Already Exists!',fg='red')\n",
    "    else:\n",
    "        users.append(email)\n",
    "        message.config(text='Registration Sucessfull!',fg='green')"
   ]
  },
  {
   "cell_type": "code",
   "execution_count": 19,
   "id": "94d450d9-598b-4667-a18a-27d5ee87f4e2",
   "metadata": {},
   "outputs": [],
   "source": [
    "root = Tk()\n",
    "\n",
    "root.title('Registration')\n",
    "root.iconbitmap(\"\")\n",
    "\n",
    "root.configure(background='grey')\n",
    "\n",
    "# image\n",
    "img = ImageTk.PhotoImage(Image.open(\"C:\\\\Users\\\\bajaj\\\\OneDrive\\\\Documents\\\\sanjivani.jpg\"))\n",
    "img_label = Label(root, image=img)\n",
    "img_label.pack(pady=(10, 5))\n",
    "\n",
    "# email section\n",
    "email_label = Label(root, text='Email', fg='white', bg='grey')\n",
    "email_label.pack(pady=(15, 5))\n",
    "email_label.config(font=('Ubuntu', 16))\n",
    "\n",
    "# email input\n",
    "email_ip = Entry(root, width=45)\n",
    "email_ip.pack(ipady=(6), pady=(5,10))\n",
    "\n",
    "# name section\n",
    "name_label = Label(root, text='Name', fg='white', bg='grey')\n",
    "name_label.pack(pady=(15, 5))\n",
    "name_label.config(font=('Ubuntu', 16))\n",
    "\n",
    "# name input\n",
    "name_ip = Entry(root, width=45)\n",
    "name_ip.pack(ipady=(6), pady=(5,10))\n",
    "\n",
    "# password section\n",
    "pass_label = Label(root, text='Password', fg='white', bg='grey')\n",
    "pass_label.pack(pady=(15, 5))\n",
    "pass_label.config(font=('Ubuntu', 16))\n",
    "\n",
    "# password input\n",
    "pass_ip = Entry(root, width=45)\n",
    "pass_ip.pack(ipady=(6), pady=(5,10))\n",
    "\n",
    "# submit button\n",
    "submit_btn = Button(root, text='Submit', command=display_message)\n",
    "submit_btn.pack(pady=(8,12))\n",
    "\n",
    "# message \n",
    "message = Label(root, text='', bg='grey')\n",
    "message.pack()\n",
    "message.config(font=('Ubuntu', 16))\n",
    "\n",
    "# specify the size\n",
    "root.minsize(550, 600)\n",
    "\n",
    "root.mainloop()\n"
   ]
  },
  {
   "cell_type": "code",
   "execution_count": 3,
   "id": "55b6cf6c-504a-4693-9497-bca5b1498e0d",
   "metadata": {},
   "outputs": [
    {
     "name": "stdout",
     "output_type": "stream",
     "text": [
      "[]\n"
     ]
    }
   ],
   "source": [
    "print(users)"
   ]
  },
  {
   "cell_type": "code",
   "execution_count": null,
   "id": "97db9740-207b-470b-bf64-eeb3a62b2e56",
   "metadata": {},
   "outputs": [],
   "source": []
  }
 ],
 "metadata": {
  "kernelspec": {
   "display_name": "Python 3 (ipykernel)",
   "language": "python",
   "name": "python3"
  },
  "language_info": {
   "codemirror_mode": {
    "name": "ipython",
    "version": 3
   },
   "file_extension": ".py",
   "mimetype": "text/x-python",
   "name": "python",
   "nbconvert_exporter": "python",
   "pygments_lexer": "ipython3",
   "version": "3.11.5"
  }
 },
 "nbformat": 4,
 "nbformat_minor": 5
}
