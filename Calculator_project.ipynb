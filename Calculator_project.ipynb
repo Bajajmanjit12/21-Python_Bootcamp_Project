{
 "cells": [
  {
   "cell_type": "code",
   "execution_count": 3,
   "id": "3fa14c5c-ac76-4c46-a87c-05e5afb8a247",
   "metadata": {},
   "outputs": [
    {
     "name": "stdout",
     "output_type": "stream",
     "text": [
      "Select your choice: \n",
      "a for addition\n",
      "b for subtraction\n",
      "c for multiplication\n",
      "d for divison\n"
     ]
    },
    {
     "name": "stdin",
     "output_type": "stream",
     "text": [
      "Enter the choice:  a\n",
      "Enter number 1:  5\n",
      "Enter number 2:  6\n"
     ]
    },
    {
     "name": "stdout",
     "output_type": "stream",
     "text": [
      "11\n"
     ]
    }
   ],
   "source": [
    "def add(num1,num2):\n",
    "    return num1 + num2\n",
    "\n",
    "def sub(num1,num2):\n",
    "    return num1 - num2\n",
    "\n",
    "def mul(num1,num2):\n",
    "    return num1 * num2\n",
    "\n",
    "def div(num1,num2):\n",
    "    return int(num1 / num2)\n",
    "\n",
    "print(\"Select your choice: \")\n",
    "print(\"a for addition\")\n",
    "print(\"b for subtraction\")\n",
    "print(\"c for multiplication\")\n",
    "print(\"d for divison\")\n",
    "\n",
    "choice = input(\"Enter the choice: \")\n",
    "num_1 = int(input(\"Enter number 1: \"))\n",
    "num_2 = int(input(\"Enter number 2: \"))\n",
    "\n",
    "if choice == 'a':\n",
    "    print(add(num_1, num_2))\n",
    "elif choice == 'b':\n",
    "    print(sub(num_1, num_2)) \n",
    "elif choice == 'c':\n",
    "    print(mul(num_1, num_2))\n",
    "elif choice == 'd':\n",
    "    print(div(num_1, num_2)) \n",
    "else:\n",
    "    print(\"Invalid Choice\")\n"
   ]
  },
  {
   "cell_type": "code",
   "execution_count": null,
   "id": "a749c9bf-0225-4121-a1c0-4e335fd9b16c",
   "metadata": {},
   "outputs": [],
   "source": []
  }
 ],
 "metadata": {
  "kernelspec": {
   "display_name": "Python 3 (ipykernel)",
   "language": "python",
   "name": "python3"
  },
  "language_info": {
   "codemirror_mode": {
    "name": "ipython",
    "version": 3
   },
   "file_extension": ".py",
   "mimetype": "text/x-python",
   "name": "python",
   "nbconvert_exporter": "python",
   "pygments_lexer": "ipython3",
   "version": "3.11.5"
  }
 },
 "nbformat": 4,
 "nbformat_minor": 5
}
